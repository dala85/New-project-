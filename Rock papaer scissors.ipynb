{
 "cells": [
  {
   "cell_type": "code",
   "execution_count": 43,
   "metadata": {},
   "outputs": [
    {
     "name": "stdout",
     "output_type": "stream",
     "text": [
      "Rock (r), Paper (p), Scissor (s)s\n",
      "Player : <built-in method upper of str object at 0x1093bf030> Vs s\n",
      "Draw \n"
     ]
    }
   ],
   "source": [
    "# Rock , Papaer Scissor game \n",
    "# Rock = 1 , Paper = 2 , Scissor =3 \n",
    "\n",
    "\n",
    "\n",
    "from random import randint\n",
    "\n",
    "player = input('Rock (r), Paper (p), Scissor (s)')\n",
    "print('Player :', str(player.upper) ,'Vs ',end='')\n",
    "\n",
    "chosen = random.randint(1,3)\n",
    "\n",
    "\n",
    "#print(chosen)\n",
    "\n",
    "\n",
    "if chosen == 1 :\n",
    "    computer = 'r'\n",
    "elif chosen == 2:\n",
    "    computer = 'p'\n",
    "else :\n",
    "    computer = 's'\n",
    "\n",
    "\n",
    "print(computer)\n",
    "\n",
    "\n",
    "if player == computer :\n",
    "    print(\"Draw \")\n",
    "elif player == 'r' and computer == 'p':\n",
    "    print(\"Computer won \")\n",
    "elif player == 'r' and computer == 's':\n",
    "    print(\"Player won \")\n",
    "elif player == 'p' and computer == 'r':\n",
    "    print(\"Player won \")\n",
    "elif player == 'p' and computer == 's':\n",
    "    print(\"Computer won \")\n",
    "elif player == 's' and computer == 'r':\n",
    "    print(\"Computer won \")\n",
    "elif player == 's' and computer == 'p':\n",
    "    print(\"Player won \")"
   ]
  },
  {
   "cell_type": "code",
   "execution_count": null,
   "metadata": {},
   "outputs": [],
   "source": []
  }
 ],
 "metadata": {
  "kernelspec": {
   "display_name": "Python 3",
   "language": "python",
   "name": "python3"
  },
  "language_info": {
   "codemirror_mode": {
    "name": "ipython",
    "version": 3
   },
   "file_extension": ".py",
   "mimetype": "text/x-python",
   "name": "python",
   "nbconvert_exporter": "python",
   "pygments_lexer": "ipython3",
   "version": "3.7.3"
  }
 },
 "nbformat": 4,
 "nbformat_minor": 2
}
