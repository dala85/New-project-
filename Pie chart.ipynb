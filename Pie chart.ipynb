{
 "cells": [
  {
   "cell_type": "code",
   "execution_count": null,
   "metadata": {},
   "outputs": [],
   "source": [
    "import pygal\n",
    "\n",
    "\n",
    "\n",
    "piechart = pygal.Pie()\n",
    "piechart.title = \"Favorite pets \"\n",
    "piechart.add('Dog',6)\n",
    "piechart.add('Cat',4)\n",
    "piechart.add('Hamster',3)\n",
    "piechart.add('Fish',2)\n",
    "piechart.add('snake',1)\n",
    "piechart.render()\n",
    "\n",
    "\n",
    "\n",
    "barcahrt = pygal.Bar()\n",
    "barcahrt.title = \"What is your favorite sport \"\n",
    "barcahrt.add('Swimming',6)\n",
    "barcahrt.add('Running',4)\n",
    "barcahrt.add('GYM',3)\n",
    "barcahrt.render()"
   ]
  }
 ],
 "metadata": {
  "kernelspec": {
   "display_name": "Python 3",
   "language": "python",
   "name": "python3"
  },
  "language_info": {
   "codemirror_mode": {
    "name": "ipython",
    "version": 3
   },
   "file_extension": ".py",
   "mimetype": "text/x-python",
   "name": "python",
   "nbconvert_exporter": "python",
   "pygments_lexer": "ipython3",
   "version": "3.7.3"
  }
 },
 "nbformat": 4,
 "nbformat_minor": 2
}
