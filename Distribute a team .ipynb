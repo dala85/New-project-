{
 "cells": [
  {
   "cell_type": "code",
   "execution_count": 23,
   "metadata": {},
   "outputs": [
    {
     "name": "stdout",
     "output_type": "stream",
     "text": [
      "['Dod', 'Mod', 'Rod', 'Fof', 'Bob', 'Mark']\n",
      "Team A : ['Rod', 'Mark', 'Bob']\n",
      "Team B : ['Mod', 'Fof', 'Dod']\n"
     ]
    }
   ],
   "source": [
    "from random import choice \n",
    "\n",
    "players=['Dod','Mod','Rod','Fof','Bob','Mark']\n",
    "print(players)\n",
    "\n",
    "teamA=[]\n",
    "teamB=[]\n",
    "\n",
    "while len(players)>0:\n",
    "    \n",
    "    playerA= choice(players)\n",
    "#     print(playerA)\n",
    "    teamA.append(playerA)\n",
    "    players.remove(playerA)\n",
    "\n",
    "    playerB= choice(players)\n",
    "#     print(playerB)\n",
    "    teamB.append(playerB)\n",
    "    players.remove(playerB)\n",
    "    \n",
    "print('Team A :',teamA)\n",
    "print('Team B :',teamB)\n",
    "\n",
    "\n",
    "\n"
   ]
  },
  {
   "cell_type": "code",
   "execution_count": null,
   "metadata": {},
   "outputs": [],
   "source": []
  }
 ],
 "metadata": {
  "kernelspec": {
   "display_name": "Python 3",
   "language": "python",
   "name": "python3"
  },
  "language_info": {
   "codemirror_mode": {
    "name": "ipython",
    "version": 3
   },
   "file_extension": ".py",
   "mimetype": "text/x-python",
   "name": "python",
   "nbconvert_exporter": "python",
   "pygments_lexer": "ipython3",
   "version": "3.7.3"
  }
 },
 "nbformat": 4,
 "nbformat_minor": 2
}
