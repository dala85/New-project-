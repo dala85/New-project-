{
 "cells": [
  {
   "cell_type": "code",
   "execution_count": 1,
   "metadata": {},
   "outputs": [],
   "source": [
    "from turtle import * \n",
    "\n",
    "screen = Screen()\n",
    "screen.setup(400,400)\n",
    "colors = {'verylime':'#A7E30E',\n",
    "         'reallyrasberry':'#FA057F',\n",
    "         'black':'black'}\n",
    "\n",
    "# print(colors['verylime'])\n",
    "# print(colors['reallyrasberry'])\n",
    "\n",
    "\n",
    "\n",
    "screen.bgcolor(colors['verylime'])\n",
    "penup()\n",
    "goto(0,100)\n",
    "color(colors['reallyrasberry'])\n",
    "style = ('Arial',40,'bold')\n",
    "write('Hello',font=style,align='center')\n",
    "right(90)\n",
    "forward(60)\n",
    "\n",
    "penup()\n",
    "color(colors['black'])\n",
    "style = ('Arial',40,'bold')\n",
    "write('World',font=style,align='center')\n",
    "hideturtle()\n",
    "\n",
    "\n",
    "\n",
    "\n"
   ]
  },
  {
   "cell_type": "code",
   "execution_count": null,
   "metadata": {},
   "outputs": [],
   "source": []
  },
  {
   "cell_type": "code",
   "execution_count": null,
   "metadata": {},
   "outputs": [],
   "source": []
  }
 ],
 "metadata": {
  "kernelspec": {
   "display_name": "Python 3",
   "language": "python",
   "name": "python3"
  },
  "language_info": {
   "codemirror_mode": {
    "name": "ipython",
    "version": 3
   },
   "file_extension": ".py",
   "mimetype": "text/x-python",
   "name": "python",
   "nbconvert_exporter": "python",
   "pygments_lexer": "ipython3",
   "version": "3.7.3"
  }
 },
 "nbformat": 4,
 "nbformat_minor": 2
}
