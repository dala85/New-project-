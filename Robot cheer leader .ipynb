{
 "cells": [
  {
   "cell_type": "code",
   "execution_count": 7,
   "metadata": {},
   "outputs": [
    {
     "name": "stdout",
     "output_type": "stream",
     "text": [
      "Give me a word and i will repeat it for you love \n",
      "give a number 4\n",
      "Give me a l!l\n",
      "Give me a o!o\n",
      "Give me a v!v\n",
      "Give me a e!e\n",
      "Give me a  ! \n",
      "What does that spell \n",
      "love !!!\n",
      "love !!!\n",
      "love !!!\n",
      "love !!!\n"
     ]
    }
   ],
   "source": [
    "letters ='abcdefghrigdjddd'\n",
    "word=input(\"Give me a word and i will repeat it for you \")\n",
    "times=int(input(\"give a number \"))\n",
    "\n",
    "for char in word:\n",
    "    if char in letters:\n",
    "        print(\"Give me a \"+ char +\"!\"+ char ) \n",
    "    else :\n",
    "        print(\"Give me a \"+ char +\"!\"+ char )\n",
    "        \n",
    "print(\"What does that spell \")\n",
    "for i in range(times):\n",
    "    print(word +\"!!!\")\n",
    "        "
   ]
  },
  {
   "cell_type": "code",
   "execution_count": null,
   "metadata": {},
   "outputs": [],
   "source": []
  }
 ],
 "metadata": {
  "kernelspec": {
   "display_name": "Python 3",
   "language": "python",
   "name": "python3"
  },
  "language_info": {
   "codemirror_mode": {
    "name": "ipython",
    "version": 3
   },
   "file_extension": ".py",
   "mimetype": "text/x-python",
   "name": "python",
   "nbconvert_exporter": "python",
   "pygments_lexer": "ipython3",
   "version": "3.7.3"
  }
 },
 "nbformat": 4,
 "nbformat_minor": 2
}
