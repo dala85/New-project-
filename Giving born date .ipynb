{
 "cells": [
  {
   "cell_type": "code",
   "execution_count": 20,
   "metadata": {},
   "outputs": [
    {
     "name": "stdout",
     "output_type": "stream",
     "text": [
      "Hi, I can code in python ! \n",
      "My favorite animal are sheep \n",
      "0-###- \n",
      "  | | #\n",
      "I live in Glasgow \n",
      "\n",
      "__|__\n",
      "|   |\n",
      "|   |_____ \n",
      "|#  |    |\n",
      "|  #|  # |\n",
      "------------\n",
      "What are you born ?1985\n",
      "Enter the year that you want to see your age at :2040\n",
      "In the year of 2025 you will be : 55\n"
     ]
    }
   ],
   "source": [
    "print('Hi, I can code in python ! \\nMy favorite animal are sheep \\n0-###- \\n  | | #')\n",
    "print('I live in Glasgow ')\n",
    "print(\"\"\"\n",
    "__|__\n",
    "|   |\n",
    "|   |_____ \n",
    "|#  |    |\n",
    "|  #|  # |\n",
    "------------\"\"\")\n",
    "\n",
    "born=(int(input('What are you born ?')))\n",
    "target_year = int(input(\"Enter the year that you want to see your age at :\"))\n",
    "age= target_year-born\n",
    "print('In the year of 2025 you will be : '+ str(age))"
   ]
  },
  {
   "cell_type": "code",
   "execution_count": null,
   "metadata": {},
   "outputs": [],
   "source": []
  }
 ],
 "metadata": {
  "kernelspec": {
   "display_name": "Python 3",
   "language": "python",
   "name": "python3"
  },
  "language_info": {
   "codemirror_mode": {
    "name": "ipython",
    "version": 3
   },
   "file_extension": ".py",
   "mimetype": "text/x-python",
   "name": "python",
   "nbconvert_exporter": "python",
   "pygments_lexer": "ipython3",
   "version": "3.7.3"
  }
 },
 "nbformat": 4,
 "nbformat_minor": 2
}
