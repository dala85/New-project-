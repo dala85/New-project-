{
 "cells": [
  {
   "cell_type": "code",
   "execution_count": 20,
   "metadata": {},
   "outputs": [
    {
     "name": "stdout",
     "output_type": "stream",
     "text": [
      "Please enter a message :hello new world !\n",
      "Your new message is : khoor qhz zruog !\n"
     ]
    }
   ],
   "source": [
    "# Encrypting messages\n",
    "\n",
    "alphabet = 'abcdefghijklmnopqrstuvwxyz'\n",
    "\n",
    "key = 3 \n",
    "newMessage = ''\n",
    "\n",
    "message = input('Please enter a message :')\n",
    "\n",
    "for charcter in message:\n",
    "    if charcter in alphabet:\n",
    "        position = alphabet.find(charcter)\n",
    "        new_position = (position + key) % 26  \n",
    "        new_charcter = alphabet[new_position]\n",
    "\n",
    "#     print('The new charcter is :', new_charcter)\n",
    "        newMessage += new_charcter\n",
    "    else:\n",
    "        newMessage += charcter\n",
    "\n",
    "print('Your new message is :' ,newMessage)\n",
    "\n"
   ]
  },
  {
   "cell_type": "code",
   "execution_count": 22,
   "metadata": {},
   "outputs": [
    {
     "name": "stdout",
     "output_type": "stream",
     "text": [
      "Please enter a message :khoor qhz zruog !\n",
      "Your new message is : hello new world !\n"
     ]
    }
   ],
   "source": [
    "#  Decrypting messages\n",
    "\n",
    "alphabet = 'abcdefghijklmnopqrstuvwxyz'\n",
    "\n",
    "key = -3 \n",
    "newMessage = ''\n",
    "\n",
    "message = input('Please enter a message :')\n",
    "\n",
    "for charcter in message:\n",
    "    if charcter in alphabet:\n",
    "        position = alphabet.find(charcter)\n",
    "        new_position = (position + key) % 26  \n",
    "        new_charcter = alphabet[new_position]\n",
    "\n",
    "#     print('The new charcter is :', new_charcter)\n",
    "        newMessage += new_charcter\n",
    "    else:\n",
    "        newMessage += charcter\n",
    "\n",
    "print('Your new message is :' ,newMessage)"
   ]
  },
  {
   "cell_type": "code",
   "execution_count": null,
   "metadata": {},
   "outputs": [],
   "source": []
  }
 ],
 "metadata": {
  "kernelspec": {
   "display_name": "Python 3",
   "language": "python",
   "name": "python3"
  },
  "language_info": {
   "codemirror_mode": {
    "name": "ipython",
    "version": 3
   },
   "file_extension": ".py",
   "mimetype": "text/x-python",
   "name": "python",
   "nbconvert_exporter": "python",
   "pygments_lexer": "ipython3",
   "version": "3.7.3"
  }
 },
 "nbformat": 4,
 "nbformat_minor": 2
}
